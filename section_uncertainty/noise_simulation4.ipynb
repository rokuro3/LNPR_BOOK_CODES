{
 "cells": [
  {
   "cell_type": "code",
   "execution_count": 10,
   "metadata": {},
   "outputs": [],
   "source": [
    "import sys                       \n",
    "sys.path.append('../scripts/')\n",
    "from ideal_robot import *\n",
    "from scipy.stats import expon, norm"
   ]
  },
  {
   "cell_type": "code",
   "execution_count": 11,
   "metadata": {},
   "outputs": [],
   "source": [
    "class Robot(IdealRobot): ###add_stuck### noise, biasメソッドは省略で\n",
    "        \n",
    "    def __init__(self, pose, agent=None, sensor=None, color=\"black\", \\\n",
    "                           noise_per_meter=5, noise_std=math.pi/60,\\\n",
    "                           bias_rate_stds=(0.1,0.1),\\\n",
    "                           expected_stuck_time = 1e100, expected_escape_time = 1e-100):  #追加\n",
    "        super().__init__(pose, agent, sensor, color)\n",
    "        self.noise_pdf = expon(scale=1.0/(1e-100 + noise_per_meter))\n",
    "        self.distance_until_noise = self.noise_pdf.rvs()\n",
    "        self.theta_noise = norm(scale=noise_std)\n",
    "        self.bias_rate_nu = norm.rvs(loc=1.0, scale=bias_rate_stds[0])\n",
    "        self.bias_rate_omega = norm.rvs(loc=1.0, scale=bias_rate_stds[1]) \n",
    "        \n",
    "        self.stuck_pdf = expon(scale=expected_stuck_time)  #以下追加\n",
    "        self.escape_pdf = expon(scale=expected_escape_time)\n",
    "        self.time_until_stuck = self.stuck_pdf.rvs()\n",
    "        self.time_until_escape = self.escape_pdf.rvs()\n",
    "        self.is_stuck = False\n",
    "    \n",
    "    def noise(self, pose, nu, omega, time_interval):\n",
    "        self.distance_until_noise -= abs(nu)*time_interval + self.r*omega*time_interval\n",
    "        if self.distance_until_noise <= 0.0:\n",
    "            self.distance_until_noise += self.noise_pdf.rvs()\n",
    "            pose[2] += self.theta_noise.rvs()\n",
    "            \n",
    "        return pose\n",
    "        \n",
    "    def bias(self, nu, omega): \n",
    "        return nu*self.bias_rate_nu, omega*self.bias_rate_omega\n",
    "    \n",
    "    def stuck(self, nu, omega, time_interval): #追加\n",
    "        if self.is_stuck:\n",
    "            self.time_until_escape -= time_interval\n",
    "            if self.time_until_escape <= 0.0:\n",
    "                self.time_until_escape += self.escape_pdf.rvs()\n",
    "                self.is_stuck = False\n",
    "        else:            \n",
    "            self.time_until_stuck -= time_interval\n",
    "            if self.time_until_stuck <= 0.0:\n",
    "                self.time_until_stuck += self.stuck_pdf.rvs()\n",
    "                self.is_stuck = True\n",
    "\n",
    "        return nu*(not self.is_stuck), omega*(not self.is_stuck)\n",
    "            \n",
    "    def one_step(self, time_interval):\n",
    "        if not self.agent: return\n",
    "        obs =self.sensor.data(self.pose) if self.sensor else None\n",
    "        nu, omega = self.agent.decision(obs)\n",
    "        nu, omega = self.bias(nu, omega)\n",
    "        nu, omega = self.stuck(nu, omega, time_interval) #追加\n",
    "        self.pose = self.state_transition(nu, omega, time_interval, self.pose)\n",
    "        self.pose = self.noise(self.pose, nu, omega, time_interval)\n",
    "        if self.sensor: self.sensor.data(self.pose)"
   ]
  },
  {
   "cell_type": "code",
   "execution_count": 12,
   "metadata": {},
   "outputs": [
    {
     "name": "stdout",
     "output_type": "stream",
     "text": "Using matplotlib backend: Qt5Agg\n"
    }
   ],
   "source": [
    "%matplotlib\n",
    "world = World(30, 0.1)            ###stuck_simulation###\n",
    "\n",
    "circling = Agent(0.2, 10.0/180*math.pi)\n",
    "\n",
    "for i in range(100):\n",
    "    r = Robot( np.array([0, 0, 0]).T, sensor=None, agent=circling, color=\"gray\", \\\n",
    "                   noise_per_meter=0, bias_rate_stds=(0.0,0.0), \\\n",
    "                   expected_stuck_time=60.0, expected_escape_time=60.0) \n",
    "    world.append(r)\n",
    "\n",
    "r = IdealRobot( np.array([0, 0, 0]).T, sensor=None, agent=circling, color=\"red\" )  \n",
    "world.append(r)\n",
    "\n",
    "world.draw()"
   ]
  },
  {
   "cell_type": "code",
   "execution_count": null,
   "metadata": {},
   "outputs": [],
   "source": []
  }
 ],
 "metadata": {
  "kernelspec": {
   "display_name": "Python 3",
   "language": "python",
   "name": "python3"
  },
  "language_info": {
   "codemirror_mode": {
    "name": "ipython",
    "version": 3
   },
   "file_extension": ".py",
   "mimetype": "text/x-python",
   "name": "python",
   "nbconvert_exporter": "python",
   "pygments_lexer": "ipython3",
   "version": "3.7.3-final"
  }
 },
 "nbformat": 4,
 "nbformat_minor": 2
}