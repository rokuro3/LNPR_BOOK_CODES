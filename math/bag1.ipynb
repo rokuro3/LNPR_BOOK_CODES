{
 "cells": [
  {
   "cell_type": "code",
   "execution_count": 1,
   "metadata": {},
   "outputs": [
    {
     "name": "stdout",
     "output_type": "stream",
     "text": "{<__main__.Ball object at 0x7fc9e41c5208>, <__main__.Ball object at 0x7fc9e41c2e80>, <__main__.Ball object at 0x7fc9e41c50b8>, <__main__.Ball object at 0x7fc9e41c2f28>, <__main__.Ball object at 0x7fc9e41c5160>, <__main__.Ball object at 0x7fc9e41c2da0>, <__main__.Ball object at 0x7fc9e41c2dd8>}\n"
    }
   ],
   "source": [
    "class Ball:\n",
    "    def __init__(self, color):\n",
    "        self.color = color     # ボールは色を示す変数（文字列の予定）だけ持つ\n",
    "        \n",
    "bag = set()                    # 袋を一つ作る\n",
    "\n",
    "for i in range(3):             # 赤い玉を3つ加える\n",
    "    bag.add(Ball(\"red\"))\n",
    "for i in range(4):             # 白い玉を4つ加える\n",
    "    bag.add(Ball(\"white\"))\n",
    "    \n",
    "print(bag)"
   ]
  },
  {
   "cell_type": "code",
   "execution_count": null,
   "metadata": {},
   "outputs": [],
   "source": []
  }
 ],
 "metadata": {
  "kernelspec": {
   "display_name": "Python 3",
   "language": "python",
   "name": "python3"
  },
  "language_info": {
   "codemirror_mode": {
    "name": "ipython",
    "version": 3
   },
   "file_extension": ".py",
   "mimetype": "text/x-python",
   "name": "python",
   "nbconvert_exporter": "python",
   "pygments_lexer": "ipython3",
   "version": "3.7.3-final"
  }
 },
 "nbformat": 4,
 "nbformat_minor": 2
}