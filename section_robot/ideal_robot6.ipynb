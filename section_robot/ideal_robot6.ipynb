{
 "cells": [
  {
   "cell_type": "code",
   "execution_count": 1,
   "metadata": {},
   "outputs": [
    {
     "name": "stdout",
     "output_type": "stream",
     "text": "Using matplotlib backend: Qt5Agg\n"
    }
   ],
   "source": [
    "%matplotlib\n",
    "import matplotlib\n",
    "matplotlib.use('nbagg')\n",
    "import matplotlib.animation as anm\n",
    "import matplotlib.pyplot as plt\n",
    "import math\n",
    "import matplotlib.patches as patches\n",
    "import numpy as np"
   ]
  },
  {
   "cell_type": "code",
   "execution_count": 2,
   "metadata": {},
   "outputs": [],
   "source": [
    "class World:        ### fig:world_init_add_timespan (1-6行目)\n",
    "    def __init__(self, time_span, time_interval, debug=False): #time_span, time_intervalを追加\n",
    "        self.objects = []  \n",
    "        self.debug = debug\n",
    "        self.time_span = time_span                  # 追加\n",
    "        self.time_interval = time_interval          # 追加\n",
    "        \n",
    "    def append(self,obj):             # オブジェクトを登録するための関数\n",
    "        self.objects.append(obj)\n",
    "    \n",
    "    def draw(self):            ### fig:world_draw_with_timespan (11, 22-36行目)\n",
    "        fig = plt.figure(figsize=(4,4))                # 8x8 inchの図を準備\n",
    "        ax = fig.add_subplot(111)                      # サブプロットを準備\n",
    "        ax.set_aspect('equal')                         # 縦横比を座標の値と一致させる\n",
    "        ax.set_xlim(-5,5)                              # X軸を-5m x 5mの範囲で描画\n",
    "        ax.set_ylim(-5,5)                              # Y軸も同様に\n",
    "        ax.set_xlabel(\"X\",fontsize=10)                 # X軸にラベルを表示\n",
    "        ax.set_ylabel(\"Y\",fontsize=10)                 # 同じくY軸に\n",
    "        \n",
    "        elems = []\n",
    "        \n",
    "        if self.debug:        \n",
    "            for i in range(int(self.time_span/self.time_interval)): self.one_step(i, elems, ax)  #固定値から変更\n",
    "        else:\n",
    "            ### FuncAnimationのframes, intervalを変更 ###\n",
    "            self.ani = anm.FuncAnimation(fig, self.one_step, fargs=(elems, ax),\n",
    "                                     frames=int(self.time_span/self.time_interval)+1, interval=int(self.time_interval*1000), repeat=False)\n",
    "            plt.show()\n",
    "        \n",
    "    def one_step(self, i, elems, ax):\n",
    "        while elems: elems.pop().remove()\n",
    "        time_str = \"t = %.2f[s]\" % (self.time_interval*i)    # 時刻として表示する文字列\n",
    "        elems.append(ax.text(-4.4, 4.5, time_str, fontsize=10))\n",
    "        for obj in self.objects:\n",
    "            obj.draw(ax, elems)\n",
    "            if hasattr(obj, \"one_step\"): obj.one_step(self.time_interval)                 # 変更"
   ]
  },
  {
   "cell_type": "code",
   "execution_count": 3,
   "metadata": {},
   "outputs": [],
   "source": [
    "class IdealRobot:\n",
    "    def __init__(self, pose, agent=None, color=\"black\"):\n",
    "        self.pose = pose        # 引数から姿勢の初期値を設定\n",
    "        self.r = 0.2            # これは描画のためなので固定値\n",
    "        self.color = color      # 引数から描画するときの色を設定\n",
    "        self.agent = agent\n",
    "        self.poses = [pose] \n",
    "    \n",
    "    def draw(self, ax, elems):\n",
    "        x, y, theta = self.pose                   # 姿勢の変数を分解して3つの変数へ\n",
    "        xn = x + self.r * math.cos(theta)         #  ロボットの鼻先のx座標 \n",
    "        yn = y + self.r * math.sin(theta)         #  ロボットの鼻先のy座標 \n",
    "        elems += ax.plot([x,xn], [y,yn], color=self.color) # ロボットの向きを示す線分の描画\n",
    "        c = patches.Circle(xy=(x, y), radius=self.r, fill=False, color=self.color) \n",
    "        elems.append(ax.add_patch(c))   # 上のpatches.Circleでロボットの胴体を示す円を作ってサブプロットへ登録\n",
    "        \n",
    "        self.poses.append(self.pose)\n",
    "        elems += ax.plot([e[0] for e in self.poses], [e[1] for e in self.poses], linewidth=0.5, color=\"black\")\n",
    "            \n",
    "    @classmethod\n",
    "    def state_transition(self, nu, omega, time, pose):\n",
    "        t0 = pose[2]\n",
    "        if math.fabs(omega) < 1e-10:\n",
    "            return pose + np.array( [nu*math.cos(t0), \n",
    "                                     nu*math.sin(t0),\n",
    "                                     omega ] ) * time\n",
    "        else:\n",
    "            return pose + np.array( [nu/omega*(math.sin(t0 + omega*time) - math.sin(t0)), \n",
    "                                     nu/omega*(-math.cos(t0 + omega*time) + math.cos(t0)),\n",
    "                                     omega*time ] )\n",
    "\n",
    "    def one_step(self, time_interval):\n",
    "        if not self.agent: return\n",
    "        nu, omega = self.agent.decision()\n",
    "        self.pose = self.state_transition(nu, omega, time_interval, self.pose)"
   ]
  },
  {
   "cell_type": "code",
   "execution_count": 4,
   "metadata": {},
   "outputs": [],
   "source": [
    "class Agent:\n",
    "    def __init__(self, nu, omega):\n",
    "        self.nu = nu\n",
    "        self.omega = omega\n",
    "        \n",
    "    def decision(self, observation=None):\n",
    "        return self.nu, self.omega"
   ]
  },
  {
   "cell_type": "code",
   "execution_count": 5,
   "metadata": {},
   "outputs": [
    {
     "name": "stdout",
     "output_type": "stream",
     "text": "Using matplotlib backend: Qt5Agg\n"
    }
   ],
   "source": [
    "%matplotlib\n",
    "world = World(10, 0.1, debug=False)   # 引数を追加         ### fig:add_args_world (1行目だけ)\n",
    "straight = Agent(0.2, 0.0)                # 0.2[m/s]で直進     \n",
    "circling = Agent(0.2, 10.0/180*math.pi)   # 0.2[m/s], 10[deg/s]（円を描く\n",
    "robot1 = IdealRobot( np.array([ 2, 3, math.pi/6]).T,    straight )  \n",
    "robot2 = IdealRobot( np.array([-2, -1, math.pi/5*6]).T, circling, \"red\")  \n",
    "robot3 = IdealRobot( np.array([ 0, 0, 0]).T, color=\"blue\")     # コントローラを与えないロボット\n",
    "world.append(robot1)\n",
    "world.append(robot2)\n",
    "world.append(robot3)\n",
    "world.draw()"
   ]
  },
  {
   "cell_type": "code",
   "execution_count": null,
   "metadata": {},
   "outputs": [],
   "source": []
  }
 ],
 "metadata": {
  "kernelspec": {
   "display_name": "Python 3.7.3 64-bit ('anaconda3': virtualenv)",
   "language": "python",
   "name": "python37364bitanaconda3virtualenvd418532954544ba0ae87f54ea6894515"
  },
  "language_info": {
   "codemirror_mode": {
    "name": "ipython",
    "version": 3
   },
   "file_extension": ".py",
   "mimetype": "text/x-python",
   "name": "python",
   "nbconvert_exporter": "python",
   "pygments_lexer": "ipython3",
   "version": "3.7.3-final"
  }
 },
 "nbformat": 4,
 "nbformat_minor": 2
}